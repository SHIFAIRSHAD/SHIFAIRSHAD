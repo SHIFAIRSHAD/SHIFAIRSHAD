{
  "nbformat": 4,
  "nbformat_minor": 0,
  "metadata": {
    "colab": {
      "provenance": [],
      "authorship_tag": "ABX9TyPjHgiRiuMjgzy2Nw2CCDMZ",
      "include_colab_link": true
    },
    "kernelspec": {
      "name": "python3",
      "display_name": "Python 3"
    },
    "language_info": {
      "name": "python"
    }
  },
  "cells": [
    {
      "cell_type": "markdown",
      "metadata": {
        "id": "view-in-github",
        "colab_type": "text"
      },
      "source": [
        "<a href=\"https://colab.research.google.com/github/SHIFAIRSHAD/SHIFAIRSHAD/blob/main/midterm.ipynb\" target=\"_parent\"><img src=\"https://colab.research.google.com/assets/colab-badge.svg\" alt=\"Open In Colab\"/></a>"
      ]
    },
    {
      "cell_type": "code",
      "execution_count": 3,
      "metadata": {
        "colab": {
          "base_uri": "https://localhost:8080/"
        },
        "id": "Gi2s6ZoocMD7",
        "outputId": "9d934eb2-ff43-4155-e109-13b533b57632"
      },
      "outputs": [
        {
          "output_type": "stream",
          "name": "stdout",
          "text": [
            "enter the email id:  shifairshad36@gmail.com\n",
            "shifairshad36\n",
            "Username= shifairshad36\n",
            "Domain name= gmail.com\n"
          ]
        }
      ],
      "source": [
        "emailId = input (\"enter the email id:  \")\n",
        "username = emailId[0:emailId.index('@')]\n",
        "print(username)\n",
        "domain=emailId[emailId.index('@')+1:]\n",
        "print(\"Username= \"+username)\n",
        "print(\"Domain name= \" +domain)\n"
      ]
    }
  ]
}