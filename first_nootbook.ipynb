{
  "nbformat": 4,
  "nbformat_minor": 0,
  "metadata": {
    "colab": {
      "provenance": [],
      "authorship_tag": "ABX9TyNlmwyR1R4rrbxgxitFYqOH",
      "include_colab_link": true
    },
    "kernelspec": {
      "name": "python3",
      "display_name": "Python 3"
    },
    "language_info": {
      "name": "python"
    }
  },
  "cells": [
    {
      "cell_type": "markdown",
      "metadata": {
        "id": "view-in-github",
        "colab_type": "text"
      },
      "source": [
        "<a href=\"https://colab.research.google.com/github/SHIFAIRSHAD/SHIFAIRSHAD/blob/main/first_nootbook.ipynb\" target=\"_parent\"><img src=\"https://colab.research.google.com/assets/colab-badge.svg\" alt=\"Open In Colab\"/></a>"
      ]
    },
    {
      "cell_type": "code",
      "execution_count": 2,
      "metadata": {
        "colab": {
          "base_uri": "https://localhost:8080/"
        },
        "id": "hy5iFTkyyeh5",
        "outputId": "30696c67-407b-4005-fd5a-485bbb4437c7"
      },
      "outputs": [
        {
          "output_type": "stream",
          "name": "stdout",
          "text": [
            "enter the first number:  10\n",
            "enter the second number: 20\n",
            "enter the third number:  30\n",
            "Sum:  60\n",
            "Difference:  -40\n",
            "product: 6000\n",
            "remainder: 10\n"
          ]
        }
      ],
      "source": [
        "a=int(input(\"enter the first number:  \"))\n",
        "b=int(input(\"enter the second number: \"))\n",
        "c=int(input(\"enter the third number:  \"))\n",
        "print(\"Sum: \",a+b+c)\n",
        "print(\"Difference: \",a-b-c)\n",
        "print(\"product:\",a*b*c)\n",
        "print(\"remainder:\",a%b%c)\n"
      ]
    },
    {
      "cell_type": "code",
      "source": [
        "height=float(input(\"enter the height of the triangle: \"))\n",
        "base=float(input(\"enter the base of the triangle: \"))\n",
        "\n",
        "area= (0.5*base*height)\n",
        "\n",
        "print ('the area of triangle is',area)"
      ],
      "metadata": {
        "colab": {
          "base_uri": "https://localhost:8080/"
        },
        "id": "ZabOz4MwzCPm",
        "outputId": "1b92bcc2-51e6-4ed7-a0ce-5267490437ac"
      },
      "execution_count": 3,
      "outputs": [
        {
          "output_type": "stream",
          "name": "stdout",
          "text": [
            "enter the height of the triangle: 12.5\n",
            "enter the base of the triangle: 5\n",
            "the area of triangle is 31.25\n"
          ]
        }
      ]
    },
    {
      "cell_type": "code",
      "source": [
        "lenght=float(input(\"enter side of square : \"))\n",
        "area=lenght*lenght\n",
        "print(\"area of square is: \",area)"
      ],
      "metadata": {
        "colab": {
          "base_uri": "https://localhost:8080/"
        },
        "id": "axpcuXZ4zW7b",
        "outputId": "251b5511-3831-477c-ab67-8709316c74aa"
      },
      "execution_count": 4,
      "outputs": [
        {
          "output_type": "stream",
          "name": "stdout",
          "text": [
            "enter side of square : 5\n",
            "area of square is:  25.0\n"
          ]
        }
      ]
    },
    {
      "cell_type": "code",
      "source": [
        "import math\n",
        "radius= float(input(\"enter the radius of circle: \"))\n",
        "\n",
        "area= math.pi * radius * radius\n",
        "\n",
        "print (\"area of the circle : {0} \" . format(area))"
      ],
      "metadata": {
        "colab": {
          "base_uri": "https://localhost:8080/"
        },
        "id": "TYPsQKGfzjgr",
        "outputId": "c1d7ae9d-27fa-42f8-beff-371376c4e73a"
      },
      "execution_count": 5,
      "outputs": [
        {
          "output_type": "stream",
          "name": "stdout",
          "text": [
            "enter the radius of circle: 10\n",
            "area of the circle : 314.1592653589793 \n"
          ]
        }
      ]
    },
    {
      "cell_type": "code",
      "source": [
        "width= float(input(\"enter the width of rectangle: \"))\n",
        "height = float(input(\"enter the height of rectangle: \"))\n",
        "\n",
        "area = width*height\n",
        "\n",
        "print(\"Area of a rectangle is: \", area)"
      ],
      "metadata": {
        "colab": {
          "base_uri": "https://localhost:8080/"
        },
        "id": "vkKoc4umz2wy",
        "outputId": "0e683648-6a66-4e5c-a9af-669b0b9e2dc5"
      },
      "execution_count": 6,
      "outputs": [
        {
          "output_type": "stream",
          "name": "stdout",
          "text": [
            "enter the width of rectangle: 2.3\n",
            "enter the height of rectangle: 5.4\n",
            "Area of a rectangle is:  12.42\n"
          ]
        }
      ]
    },
    {
      "cell_type": "code",
      "source": [
        "x = 13\n",
        "y = 12\n",
        "\n",
        "temp = x\n",
        "print(\"the value of temp variable is\",temp)\n",
        "\n",
        "x = y\n",
        "print (\"the value of x is \", x)\n",
        "\n",
        "y = temp\n",
        "print (\"the value of y is\",y)\n",
        "\n",
        "\n",
        "\n",
        "x = 12\n",
        "y = 13\n",
        "\n",
        "x,y = y,x\n",
        "print(\"the value of x is\", x)\n",
        "print(\"the value of y is\", y)\n"
      ],
      "metadata": {
        "colab": {
          "base_uri": "https://localhost:8080/"
        },
        "id": "eULA0uPC0Myf",
        "outputId": "b1efecef-586f-4601-80d6-53614eda110b"
      },
      "execution_count": 8,
      "outputs": [
        {
          "output_type": "stream",
          "name": "stdout",
          "text": [
            "the value of temp variable is 13\n",
            "the value of x is  12\n",
            "the value of y is 13\n",
            "the value of x is 13\n",
            "the value of y is 12\n"
          ]
        }
      ]
    }
  ]
}